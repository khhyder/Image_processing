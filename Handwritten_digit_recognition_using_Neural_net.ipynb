{
 "cells": [
  {
   "cell_type": "code",
   "execution_count": 35,
   "metadata": {},
   "outputs": [],
   "source": [
    "from keras.layers import Conv2D, MaxPooling2D, Flatten,Dense\n",
    "from keras.models import Sequential\n",
    "from keras.datasets import mnist\n",
    "from keras.utils import to_categorical\n",
    "\n",
    "import matplotlib.pyplot as plt\n",
    "%matplotlib inline"
   ]
  },
  {
   "cell_type": "code",
   "execution_count": 36,
   "metadata": {},
   "outputs": [],
   "source": [
    "from keras.preprocessing.image import load_img, array_to_img\n",
    "from keras.layers import Dense #Dense ensure it will be a fully connnected layer"
   ]
  },
  {
   "cell_type": "code",
   "execution_count": 37,
   "metadata": {},
   "outputs": [],
   "source": [
    "#pip install keras\n",
    "#pip install tensorflow\n",
    "\n",
    "(X_train, y_train), (X_test, y_test) = mnist.load_data() #All images are stored in Train and lebel of that images are in test"
   ]
  },
  {
   "cell_type": "code",
   "execution_count": 38,
   "metadata": {},
   "outputs": [
    {
     "name": "stdout",
     "output_type": "stream",
     "text": [
      "(60000, 28, 28)\n",
      "(60000,)\n",
      "(10000, 28, 28)\n",
      "(10000,)\n"
     ]
    }
   ],
   "source": [
    "print(X_train.shape) # will show 60,000 entries and 28X28 dimension images\n",
    "print(y_train.shape) # this contains the lebel of each images (eg - pic = 5)\n",
    "print(X_test.shape)\n",
    "print(y_test.shape)"
   ]
  },
  {
   "cell_type": "code",
   "execution_count": 39,
   "metadata": {},
   "outputs": [
    {
     "data": {
      "text/plain": [
       "(28, 28)"
      ]
     },
     "execution_count": 39,
     "metadata": {},
     "output_type": "execute_result"
    }
   ],
   "source": [
    "#Understanding the image data format\n",
    "X_train[0].shape"
   ]
  },
  {
   "cell_type": "code",
   "execution_count": 40,
   "metadata": {},
   "outputs": [
    {
     "data": {
      "text/plain": [
       "<matplotlib.image.AxesImage at 0x20613781da0>"
      ]
     },
     "execution_count": 40,
     "metadata": {},
     "output_type": "execute_result"
    },
    {
     "data": {
      "image/png": "[encoded data removed]",
      "text/plain": [
       "<Figure size 432x288 with 1 Axes>"
      ]
     },
     "metadata": {},
     "output_type": "display_data"
    }
   ],
   "source": [
    "plt.imshow(X_train[59000],cmap='gray')"
   ]
  },
  {
   "cell_type": "code",
   "execution_count": 41,
   "metadata": {},
   "outputs": [
    {
     "data": {
      "text/plain": [
       "6"
      ]
     },
     "execution_count": 41,
     "metadata": {},
     "output_type": "execute_result"
    }
   ],
   "source": [
    "y_train[59000]"
   ]
  },
  {
   "cell_type": "code",
   "execution_count": 42,
   "metadata": {},
   "outputs": [],
   "source": [
    "#Preprocessing the image data\n",
    "image_height, image_width = 28,28"
   ]
  },
  {
   "cell_type": "code",
   "execution_count": 43,
   "metadata": {},
   "outputs": [
    {
     "data": {
      "text/plain": [
       "784"
      ]
     },
     "execution_count": 43,
     "metadata": {},
     "output_type": "execute_result"
    }
   ],
   "source": [
    "28*28 #here the ans 784 is pixel or neuron"
   ]
  },
  {
   "cell_type": "code",
   "execution_count": 44,
   "metadata": {},
   "outputs": [],
   "source": [
    "X_train=X_train.reshape(60000, image_height*image_width) #this give us one layer, 784 neuron accross\n",
    "X_test=X_test.reshape(10000, image_height*image_width) #we are converting to ensure right format to fit the model"
   ]
  },
  {
   "cell_type": "code",
   "execution_count": 45,
   "metadata": {},
   "outputs": [
    {
     "name": "stdout",
     "output_type": "stream",
     "text": [
      "(60000, 784)\n",
      "(10000, 784)\n"
     ]
    }
   ],
   "source": [
    "print(X_train.shape)\n",
    "print(X_test.shape)"
   ]
  },
  {
   "cell_type": "code",
   "execution_count": 46,
   "metadata": {},
   "outputs": [
    {
     "name": "stdout",
     "output_type": "stream",
     "text": [
      "[  0   0   0   0   0   0   0   0   0   0   0   0   0   0   0   0   0   0\n",
      "   0   0   0   0   0   0   0   0   0   0   0   0   0   0   0   0   0   0\n",
      "   0   0   0   0   0   0   0   0   0   0   0   0   0   0   0   0   0   0\n",
      "   0   0   0   0   0   0   0   0   0   0   0   0   0   0   0   0   0   0\n",
      "   0   0   0   0   0   0   0   0   0   0   0   0   0   0   0   0   0   0\n",
      "   0   0   0   0   0   0   0   0   0   0   0   0   0   0   0   0   0   0\n",
      "   0   0   0   0   0   0   0   0   0   0   0   0   0   0   0   0   0   0\n",
      "   0   0   0   0   0   0   0   0   0   0   0   0   0   0   0   0   0   0\n",
      "   0   0   0   0   0   0   0   0   3  18  18  18 126 136 175  26 166 255\n",
      " 247 127   0   0   0   0   0   0   0   0   0   0   0   0  30  36  94 154\n",
      " 170 253 253 253 253 253 225 172 253 242 195  64   0   0   0   0   0   0\n",
      "   0   0   0   0   0  49 238 253 253 253 253 253 253 253 253 251  93  82\n",
      "  82  56  39   0   0   0   0   0   0   0   0   0   0   0   0  18 219 253\n",
      " 253 253 253 253 198 182 247 241   0   0   0   0   0   0   0   0   0   0\n",
      "   0   0   0   0   0   0   0   0  80 156 107 253 253 205  11   0  43 154\n",
      "   0   0   0   0   0   0   0   0   0   0   0   0   0   0   0   0   0   0\n",
      "   0  14   1 154 253  90   0   0   0   0   0   0   0   0   0   0   0   0\n",
      "   0   0   0   0   0   0   0   0   0   0   0   0   0 139 253 190   2   0\n",
      "   0   0   0   0   0   0   0   0   0   0   0   0   0   0   0   0   0   0\n",
      "   0   0   0   0   0  11 190 253  70   0   0   0   0   0   0   0   0   0\n",
      "   0   0   0   0   0   0   0   0   0   0   0   0   0   0   0   0  35 241\n",
      " 225 160 108   1   0   0   0   0   0   0   0   0   0   0   0   0   0   0\n",
      "   0   0   0   0   0   0   0   0   0  81 240 253 253 119  25   0   0   0\n",
      "   0   0   0   0   0   0   0   0   0   0   0   0   0   0   0   0   0   0\n",
      "   0   0  45 186 253 253 150  27   0   0   0   0   0   0   0   0   0   0\n",
      "   0   0   0   0   0   0   0   0   0   0   0   0   0  16  93 252 253 187\n",
      "   0   0   0   0   0   0   0   0   0   0   0   0   0   0   0   0   0   0\n",
      "   0   0   0   0   0   0   0 249 253 249  64   0   0   0   0   0   0   0\n",
      "   0   0   0   0   0   0   0   0   0   0   0   0   0   0  46 130 183 253\n",
      " 253 207   2   0   0   0   0   0   0   0   0   0   0   0   0   0   0   0\n",
      "   0   0   0   0  39 148 229 253 253 253 250 182   0   0   0   0   0   0\n",
      "   0   0   0   0   0   0   0   0   0   0   0   0  24 114 221 253 253 253\n",
      " 253 201  78   0   0   0   0   0   0   0   0   0   0   0   0   0   0   0\n",
      "   0   0  23  66 213 253 253 253 253 198  81   2   0   0   0   0   0   0\n",
      "   0   0   0   0   0   0   0   0   0   0  18 171 219 253 253 253 253 195\n",
      "  80   9   0   0   0   0   0   0   0   0   0   0   0   0   0   0   0   0\n",
      "  55 172 226 253 253 253 253 244 133  11   0   0   0   0   0   0   0   0\n",
      "   0   0   0   0   0   0   0   0   0   0 136 253 253 253 212 135 132  16\n",
      "   0   0   0   0   0   0   0   0   0   0   0   0   0   0   0   0   0   0\n",
      "   0   0   0   0   0   0   0   0   0   0   0   0   0   0   0   0   0   0\n",
      "   0   0   0   0   0   0   0   0   0   0   0   0   0   0   0   0   0   0\n",
      "   0   0   0   0   0   0   0   0   0   0   0   0   0   0   0   0   0   0\n",
      "   0   0   0   0   0   0   0   0   0   0   0   0   0   0   0   0   0   0\n",
      "   0   0   0   0   0   0   0   0   0   0]\n"
     ]
    }
   ],
   "source": [
    "print(X_train[0]) #as the org image is gray scale so the value of original pixel is betweet 0 - 255// change the type to float \n",
    "X_train=X_train.astype('float32') #Change the data type to as float\n",
    "X_test=X_test.astype('float32')"
   ]
  },
  {
   "cell_type": "code",
   "execution_count": 47,
   "metadata": {},
   "outputs": [
    {
     "name": "stdout",
     "output_type": "stream",
     "text": [
      "[0.         0.         0.         0.         0.         0.\n",
      " 0.         0.         0.         0.         0.         0.\n",
      " 0.         0.         0.         0.         0.         0.\n",
      " 0.         0.         0.         0.         0.         0.\n",
      " 0.         0.         0.         0.         0.         0.\n",
      " 0.         0.         0.         0.         0.         0.\n",
      " 0.         0.         0.         0.         0.         0.\n",
      " 0.         0.         0.         0.         0.         0.\n",
      " 0.         0.         0.         0.         0.         0.\n",
      " 0.         0.         0.         0.         0.         0.\n",
      " 0.         0.         0.         0.         0.         0.\n",
      " 0.         0.         0.         0.         0.         0.\n",
      " 0.         0.         0.         0.         0.         0.\n",
      " 0.         0.         0.         0.         0.         0.\n",
      " 0.         0.         0.         0.         0.         0.\n",
      " 0.         0.         0.         0.         0.         0.\n",
      " 0.         0.         0.         0.         0.         0.\n",
      " 0.         0.         0.         0.         0.         0.\n",
      " 0.         0.         0.         0.         0.         0.\n",
      " 0.         0.         0.         0.         0.         0.\n",
      " 0.         0.         0.         0.         0.         0.\n",
      " 0.         0.         0.         0.         0.         0.\n",
      " 0.         0.         0.         0.         0.         0.\n",
      " 0.         0.         0.         0.         0.         0.\n",
      " 0.         0.         0.         0.         0.         0.\n",
      " 0.         0.         0.01176471 0.07058824 0.07058824 0.07058824\n",
      " 0.49411765 0.53333336 0.6862745  0.10196079 0.6509804  1.\n",
      " 0.96862745 0.49803922 0.         0.         0.         0.\n",
      " 0.         0.         0.         0.         0.         0.\n",
      " 0.         0.         0.11764706 0.14117648 0.36862746 0.6039216\n",
      " 0.6666667  0.99215686 0.99215686 0.99215686 0.99215686 0.99215686\n",
      " 0.88235295 0.6745098  0.99215686 0.9490196  0.7647059  0.2509804\n",
      " 0.         0.         0.         0.         0.         0.\n",
      " 0.         0.         0.         0.         0.         0.19215687\n",
      " 0.93333334 0.99215686 0.99215686 0.99215686 0.99215686 0.99215686\n",
      " 0.99215686 0.99215686 0.99215686 0.9843137  0.3647059  0.32156864\n",
      " 0.32156864 0.21960784 0.15294118 0.         0.         0.\n",
      " 0.         0.         0.         0.         0.         0.\n",
      " 0.         0.         0.         0.07058824 0.85882354 0.99215686\n",
      " 0.99215686 0.99215686 0.99215686 0.99215686 0.7764706  0.7137255\n",
      " 0.96862745 0.94509804 0.         0.         0.         0.\n",
      " 0.         0.         0.         0.         0.         0.\n",
      " 0.         0.         0.         0.         0.         0.\n",
      " 0.         0.         0.3137255  0.6117647  0.41960785 0.99215686\n",
      " 0.99215686 0.8039216  0.04313726 0.         0.16862746 0.6039216\n",
      " 0.         0.         0.         0.         0.         0.\n",
      " 0.         0.         0.         0.         0.         0.\n",
      " 0.         0.         0.         0.         0.         0.\n",
      " 0.         0.05490196 0.00392157 0.6039216  0.99215686 0.3529412\n",
      " 0.         0.         0.         0.         0.         0.\n",
      " 0.         0.         0.         0.         0.         0.\n",
      " 0.         0.         0.         0.         0.         0.\n",
      " 0.         0.         0.         0.         0.         0.\n",
      " 0.         0.54509807 0.99215686 0.74509805 0.00784314 0.\n",
      " 0.         0.         0.         0.         0.         0.\n",
      " 0.         0.         0.         0.         0.         0.\n",
      " 0.         0.         0.         0.         0.         0.\n",
      " 0.         0.         0.         0.         0.         0.04313726\n",
      " 0.74509805 0.99215686 0.27450982 0.         0.         0.\n",
      " 0.         0.         0.         0.         0.         0.\n",
      " 0.         0.         0.         0.         0.         0.\n",
      " 0.         0.         0.         0.         0.         0.\n",
      " 0.         0.         0.         0.         0.13725491 0.94509804\n",
      " 0.88235295 0.627451   0.42352942 0.00392157 0.         0.\n",
      " 0.         0.         0.         0.         0.         0.\n",
      " 0.         0.         0.         0.         0.         0.\n",
      " 0.         0.         0.         0.         0.         0.\n",
      " 0.         0.         0.         0.31764707 0.9411765  0.99215686\n",
      " 0.99215686 0.46666667 0.09803922 0.         0.         0.\n",
      " 0.         0.         0.         0.         0.         0.\n",
      " 0.         0.         0.         0.         0.         0.\n",
      " 0.         0.         0.         0.         0.         0.\n",
      " 0.         0.         0.1764706  0.7294118  0.99215686 0.99215686\n",
      " 0.5882353  0.10588235 0.         0.         0.         0.\n",
      " 0.         0.         0.         0.         0.         0.\n",
      " 0.         0.         0.         0.         0.         0.\n",
      " 0.         0.         0.         0.         0.         0.\n",
      " 0.         0.0627451  0.3647059  0.9882353  0.99215686 0.73333335\n",
      " 0.         0.         0.         0.         0.         0.\n",
      " 0.         0.         0.         0.         0.         0.\n",
      " 0.         0.         0.         0.         0.         0.\n",
      " 0.         0.         0.         0.         0.         0.\n",
      " 0.         0.9764706  0.99215686 0.9764706  0.2509804  0.\n",
      " 0.         0.         0.         0.         0.         0.\n",
      " 0.         0.         0.         0.         0.         0.\n",
      " 0.         0.         0.         0.         0.         0.\n",
      " 0.         0.         0.18039216 0.50980395 0.7176471  0.99215686\n",
      " 0.99215686 0.8117647  0.00784314 0.         0.         0.\n",
      " 0.         0.         0.         0.         0.         0.\n",
      " 0.         0.         0.         0.         0.         0.\n",
      " 0.         0.         0.         0.         0.15294118 0.5803922\n",
      " 0.8980392  0.99215686 0.99215686 0.99215686 0.98039216 0.7137255\n",
      " 0.         0.         0.         0.         0.         0.\n",
      " 0.         0.         0.         0.         0.         0.\n",
      " 0.         0.         0.         0.         0.         0.\n",
      " 0.09411765 0.44705883 0.8666667  0.99215686 0.99215686 0.99215686\n",
      " 0.99215686 0.7882353  0.30588236 0.         0.         0.\n",
      " 0.         0.         0.         0.         0.         0.\n",
      " 0.         0.         0.         0.         0.         0.\n",
      " 0.         0.         0.09019608 0.25882354 0.8352941  0.99215686\n",
      " 0.99215686 0.99215686 0.99215686 0.7764706  0.31764707 0.00784314\n",
      " 0.         0.         0.         0.         0.         0.\n",
      " 0.         0.         0.         0.         0.         0.\n",
      " 0.         0.         0.         0.         0.07058824 0.67058825\n",
      " 0.85882354 0.99215686 0.99215686 0.99215686 0.99215686 0.7647059\n",
      " 0.3137255  0.03529412 0.         0.         0.         0.\n",
      " 0.         0.         0.         0.         0.         0.\n",
      " 0.         0.         0.         0.         0.         0.\n",
      " 0.21568628 0.6745098  0.8862745  0.99215686 0.99215686 0.99215686\n",
      " 0.99215686 0.95686275 0.52156866 0.04313726 0.         0.\n",
      " 0.         0.         0.         0.         0.         0.\n",
      " 0.         0.         0.         0.         0.         0.\n",
      " 0.         0.         0.         0.         0.53333336 0.99215686\n",
      " 0.99215686 0.99215686 0.83137256 0.5294118  0.5176471  0.0627451\n",
      " 0.         0.         0.         0.         0.         0.\n",
      " 0.         0.         0.         0.         0.         0.\n",
      " 0.         0.         0.         0.         0.         0.\n",
      " 0.         0.         0.         0.         0.         0.\n",
      " 0.         0.         0.         0.         0.         0.\n",
      " 0.         0.         0.         0.         0.         0.\n",
      " 0.         0.         0.         0.         0.         0.\n",
      " 0.         0.         0.         0.         0.         0.\n",
      " 0.         0.         0.         0.         0.         0.\n",
      " 0.         0.         0.         0.         0.         0.\n",
      " 0.         0.         0.         0.         0.         0.\n",
      " 0.         0.         0.         0.         0.         0.\n",
      " 0.         0.         0.         0.         0.         0.\n",
      " 0.         0.         0.         0.         0.         0.\n",
      " 0.         0.         0.         0.         0.         0.\n",
      " 0.         0.         0.         0.         0.         0.\n",
      " 0.         0.         0.         0.        ]\n"
     ]
    }
   ],
   "source": [
    "X_train /= 255.0 #Devide each element on the array with 255 where we'll get the value betweet 0 and 1\n",
    "X_test /= 255.0\n",
    "print(X_train[0])"
   ]
  },
  {
   "cell_type": "code",
   "execution_count": 56,
   "metadata": {},
   "outputs": [
    {
     "name": "stdout",
     "output_type": "stream",
     "text": [
      "(60000, 10)\n",
      "(10000, 10)\n"
     ]
    }
   ],
   "source": [
    "print(y_train.shape)\n",
    "print(y_test.shape)"
   ]
  },
  {
   "cell_type": "code",
   "execution_count": 54,
   "metadata": {},
   "outputs": [
    {
     "name": "stdout",
     "output_type": "stream",
     "text": [
      "5\n",
      "7\n"
     ]
    }
   ],
   "source": [
    "print(y_train[0])\n",
    "print(y_test[0])\n",
    "#print(X_train[0])\n",
    "#print(X_test[0])"
   ]
  },
  {
   "cell_type": "markdown",
   "metadata": {},
   "source": [
    "Note: when using the categorical_crossentropy loss, your targets should be in categorical format (e.g. if you have 10 classes, the target for each sample should be a 10-dimensional vector that is all-zeros except for a 1 at the index corresponding to the class of the sample). In order to convert integer targets into categorical targets, you can use the Keras utility to_categorical [Ref: keras documentation https://keras.io/losses/]"
   ]
  },
  {
   "cell_type": "code",
   "execution_count": 55,
   "metadata": {},
   "outputs": [],
   "source": [
    "y_train=to_categorical(y_train,10)\n",
    "y_test=to_categorical(y_test,10)\n"
   ]
  },
  {
   "cell_type": "code",
   "execution_count": 57,
   "metadata": {},
   "outputs": [],
   "source": [
    "model =  Sequential()"
   ]
  },
  {
   "cell_type": "code",
   "execution_count": 58,
   "metadata": {},
   "outputs": [],
   "source": [
    "model.add(Dense(512,activation='relu',input_shape=(784,)))\n",
    "model.add(Dense(512,activation='relu'))\n",
    "model.add(Dense(10,activation='softmax'))"
   ]
  },
  {
   "cell_type": "code",
   "execution_count": 60,
   "metadata": {},
   "outputs": [],
   "source": [
    "#Compile the model\n",
    "model.compile(optimizer='adam',loss='categorical_crossentropy', metrics=['accuracy']) #Here we use loss = 'cateogi...' that supports 10 bin output"
   ]
  },
  {
   "cell_type": "code",
   "execution_count": 61,
   "metadata": {},
   "outputs": [
    {
     "name": "stdout",
     "output_type": "stream",
     "text": [
      "_________________________________________________________________\n",
      "Layer (type)                 Output Shape              Param #   \n",
      "=================================================================\n",
      "dense_1 (Dense)              (None, 512)               401920    \n",
      "_________________________________________________________________\n",
      "dense_2 (Dense)              (None, 512)               262656    \n",
      "_________________________________________________________________\n",
      "dense_3 (Dense)              (None, 10)                5130      \n",
      "=================================================================\n",
      "Total params: 669,706\n",
      "Trainable params: 669,706\n",
      "Non-trainable params: 0\n",
      "_________________________________________________________________\n"
     ]
    }
   ],
   "source": [
    "model.summary()"
   ]
  },
  {
   "cell_type": "code",
   "execution_count": 64,
   "metadata": {},
   "outputs": [
    {
     "data": {
      "text/plain": [
       "401920"
      ]
     },
     "execution_count": 64,
     "metadata": {},
     "output_type": "execute_result"
    }
   ],
   "source": [
    "784*512+512"
   ]
  },
  {
   "cell_type": "code",
   "execution_count": 65,
   "metadata": {},
   "outputs": [
    {
     "data": {
      "text/plain": [
       "262656"
      ]
     },
     "execution_count": 65,
     "metadata": {},
     "output_type": "execute_result"
    }
   ],
   "source": [
    "512*512+512"
   ]
  },
  {
   "cell_type": "code",
   "execution_count": 66,
   "metadata": {},
   "outputs": [
    {
     "data": {
      "text/plain": [
       "5130"
      ]
     },
     "execution_count": 66,
     "metadata": {},
     "output_type": "execute_result"
    }
   ],
   "source": [
    "512*10+10"
   ]
  },
  {
   "cell_type": "code",
   "execution_count": 68,
   "metadata": {},
   "outputs": [
    {
     "name": "stdout",
     "output_type": "stream",
     "text": [
      "Train on 60000 samples, validate on 10000 samples\n",
      "Epoch 1/20\n",
      "60000/60000 [==============================] - 130s 2ms/step - loss: 0.0137 - acc: 0.9966 - val_loss: 0.1150 - val_acc: 0.9832\n",
      "Epoch 2/20\n",
      "60000/60000 [==============================] - 87s 1ms/step - loss: 0.0184 - acc: 0.9963 - val_loss: 0.1411 - val_acc: 0.9810- ETA: 1:29 - loss:  - - ETA: 1:33 - loss: 0.0 - ETA:  - ETA: 14s - los - ETA: 7s - loss: 0.0174 - - ETA: 7s - loss: 0.0177 - acc: 0. - ETA: 6s - loss: 0.0182 - acc: 0.9 - ETA: 6s - loss: 0.0182 - a - ETA: 5s - loss: 0.0182 - acc: 0.996 - ETA: 5s - loss: 0.018 - ETA: 4s - loss: 0.0180 - acc: 0.99 - ETA: 4s - los - ETA: 2s - loss: 0.0180 -  - ETA: 2s - loss: 0.0182 - acc: 0.9 - ETA: 2s - - ETA: 0s - loss: 0.0183 - acc: 0.99\n",
      "Epoch 3/20\n",
      "60000/60000 [==============================] - 115s 2ms/step - loss: 0.0121 - acc: 0.9970 - val_loss: 0.1280 - val_acc: 0.98168s - loss: 0. - ETA: 1s - los\n",
      "Epoch 4/20\n",
      "60000/60000 [==============================] - 105s 2ms/step - loss: 0.0100 - acc: 0.9976 - val_loss: 0.1457 - val_acc: 0.9809ETA: 1:23 - loss: 0.0240 - acc - ETA: 1:20 - loss: 0.0187 - acc: - ETA: 1:17 - los - ETA: 1:26 -  - ETA: 1:26 - loss: 0.0112 - - ETA: 1:24 - loss: 0.010 - ETA: 1:24 - loss: 0.0 - ETA: 1:23 - loss: 0.0098 - acc:  - ETA: 1:22 - loss: 0.0096  - ETA: 1:13 - loss: 0.0086 - a\n",
      "Epoch 5/20\n",
      "42976/60000 [====================>.........] - ETA: 36s - loss: 0.0113 - acc: 0.9973"
     ]
    },
    {
     "name": "stderr",
     "output_type": "stream",
     "text": [
      "C:\\ProgramData\\Anaconda3\\lib\\site-packages\\keras\\callbacks.py:120: UserWarning: Method on_batch_end() is slow compared to the batch update (0.100718). Check your callbacks.\n",
      "  % delta_t_median)\n",
      "C:\\ProgramData\\Anaconda3\\lib\\site-packages\\keras\\callbacks.py:120: UserWarning: Method on_batch_end() is slow compared to the batch update (0.103211). Check your callbacks.\n",
      "  % delta_t_median)\n"
     ]
    },
    {
     "name": "stdout",
     "output_type": "stream",
     "text": [
      "60000/60000 [==============================] - 131s 2ms/step - loss: 0.0122 - acc: 0.9971 - val_loss: 0.1734 - val_acc: 0.9782\n",
      "Epoch 6/20\n",
      " 1920/60000 [..............................] - ETA: 2:19 - loss: 0.0092 - acc: 0.9984- ETA: 2:14 - loss: 0.0147 - acc: - ETA: 2:05 - loss: 0.0158 - acc:  - ETA: 2:01 - loss: 0.0131 - ac - ETA: 2:14 - loss: 0.0110 - ac"
     ]
    },
    {
     "name": "stderr",
     "output_type": "stream",
     "text": [
      "C:\\ProgramData\\Anaconda3\\lib\\site-packages\\keras\\callbacks.py:120: UserWarning: Method on_batch_end() is slow compared to the batch update (0.106715). Check your callbacks.\n",
      "  % delta_t_median)\n"
     ]
    },
    {
     "name": "stdout",
     "output_type": "stream",
     "text": [
      "11968/60000 [====>.........................] - ETA: 1:46 - loss: 0.0104 - acc: 0.9978"
     ]
    },
    {
     "name": "stderr",
     "output_type": "stream",
     "text": [
      "C:\\ProgramData\\Anaconda3\\lib\\site-packages\\keras\\callbacks.py:120: UserWarning: Method on_batch_end() is slow compared to the batch update (0.101230). Check your callbacks.\n",
      "  % delta_t_median)\n"
     ]
    },
    {
     "name": "stdout",
     "output_type": "stream",
     "text": [
      "60000/60000 [==============================] - 116s 2ms/step - loss: 0.0121 - acc: 0.9973 - val_loss: 0.1355 - val_acc: 0.98370125 - acc: 0.99 - ETA: 4s - loss: 0.\n",
      "Epoch 7/20\n",
      "60000/60000 [==============================] - 96s 2ms/step - loss: 0.0098 - acc: 0.9979 - val_loss: 0.1567 - val_acc: 0.9800 ETA: 1:11 - loss: 0.0074  - ETA: 35s - loss: 0. - ETA - ETA - ETA: 25s - loss: 0.0083 - - ETA: 23s - loss: 0.0086 - acc:  - - ETA: 21s - loss: 0. - ETA: -  - ETA: 5s - loss: 0.0 - ETA: 4s - loss: 0.0098 - acc - ETA - ETA: 1s - loss: 0.0098 - acc: 0. - ETA: 0s - loss: 0.0099 - a\n",
      "Epoch 8/20\n",
      "60000/60000 [==============================] - 82s 1ms/step - loss: 0.0129 - acc: 0.9971 - val_loss: 0.1309 - val_acc: 0.9825 13s - loss - ETA: 11s - loss: 0.0138 - acc:  - ETA: 11s - loss: 0. - ETA: 10s - loss:  - ETA: 10s - loss: 0.0138 - acc: 0. - ETA: 9s - loss: 0.0137 - - ETA: 8s - loss: 0.0135 - acc: 0.9 - ETA: 8s - loss: 0.0135 - acc:  - ETA: 8s - loss: 0.0135 - acc: 0. - ETA: 7s - l - ETA: 6s - loss: 0.013 - ETA: 5s - loss: 0.0132 - acc:  - ETA: 4s - loss: 0.0131 - ETA: 3s - -\n",
      "Epoch 9/20\n",
      "60000/60000 [==============================] - 78s 1ms/step - loss: 0.0134 - acc: 0.9974 - val_loss: 0.1583 - val_acc: 0.9810s: 0 - ETA: 28s - loss: 0.0137 - acc - ETA: 27s - loss: 0.0137 - - ETA: 27s  - ETA: 18s - loss: 0.01 - ETA: 17s - lo - ETA: 11s - loss: 0.0132 - acc - ETA: 11s - loss: - ETA - ETA: 6s - loss: 0.0134 - acc - ETA: 6s - loss: 0.0133 - acc: 0.997 - ETA: 6s - loss: 0.0133 - acc: 0.997 - ETA: 6s - loss: 0.0133 - acc: - ETA: 5s - los - ETA: 4s - loss: 0.0131 - acc - ETA: 3s - loss: 0.01 - ETA: 0s - loss: 0.0133 - acc: 0\n",
      "Epoch 10/20\n",
      "60000/60000 [==============================] - 75s 1ms/step - loss: 0.0112 - acc: 0.9975 - val_loss: 0.1384 - val_acc: 0.983606 - ac - ETA: 5s - loss: 0.0106 - acc: 0.99 - ETA: 4s - loss: 0.0106 - acc: - ETA: 4s - loss: 0.0111 - acc - ETA: 3s - loss: 0.0113 - ac - ETA: 0s - loss: 0.0113 - acc\n",
      "Epoch 11/20\n",
      "60000/60000 [==============================] - 76s 1ms/step - loss: 0.0138 - acc: 0.9974 - val_loss: 0.1420 - val_acc: 0.9805ETA: 1:15 - loss: 0.0015 - acc: 0.9 - ETA: 1:14 - ETA: 1:08 - loss: - ETA: 1:06 - loss: 0.0066 - acc: 0 - ETA: 1:05 - loss: 0.0066 - acc: 0. - ETA: 1:05 - loss: 0.0065 - acc: 0.9 - ETA: 1:04 - loss: 0.0076 - acc: 0.9 - ETA: 1:04 - loss: 0.0074 - acc: 0. - ETA: 1:04 - loss: 0.0073  - ETA:  - - E - ETA: 50s - loss: 0.0112 - a - - ETA: 48s - loss: 0.0125 - ETA: 46s - loss: 0.0127 - acc - ETA: 45s - loss: 0.0126 - acc: 0. - ETA: 45s - loss: 0.0126 - - E - ETA - E - ETA: 14s - loss: 0.0145 - ETA: 13s - loss: 0.01 - ETA - ETA: 9s - loss - ETA: 8s - loss: 0.0136 - acc: 0.997 - ETA: 8s - loss: 0.0136 - acc: 0.99 - ETA: 7s - loss: 0.0135 - a - ETA: 7s - loss: 0.0136 - acc:  - ETA: 6s - loss: 0.0137 - acc: 0.99 - ETA: 6s - loss: 0.0137 - acc: 0.99 - ETA: 6s - l - ETA: 5s - loss: 0.0136 - acc: 0.9 - ETA: 5s - loss: 0.0136 - acc: 0.9 - ETA: 5s - loss - ETA: 3s -  - ETA: 2s - loss: 0.0137 - acc: 0. - ETA:  - ETA: 0s - loss: 0.0139 - acc: \n",
      "Epoch 12/20\n",
      "60000/60000 [==============================] - 80s 1ms/step - loss: 0.0113 - acc: 0.9980 - val_loss: 0.1316 - val_acc: 0.9842 loss: 0.0115 - acc: 0. - ETA: 3s - loss: 0.0115 - acc: - ETA: 2s - ETA: 0s - loss: 0.0112 - acc:  - ETA: 0s - loss: 0.0111 - acc:\n",
      "Epoch 13/20\n",
      "60000/60000 [==============================] - 86s 1ms/step - loss: 0.0138 - acc: 0.9974 - val_loss: 0.1608 - val_acc: 0.9807s - loss: 0.0136 - acc: 0. - ETA: 1s - loss: 0.013\n",
      "Epoch 14/20\n",
      "60000/60000 [==============================] - 78s 1ms/step - loss: 0.0110 - acc: 0.9978 - val_loss: 0.1728 - val_acc: 0.9803s: 0.0109  - ETA: 1:15 - loss: 0.0101 - - ETA: 1:1 - ETA: 1:09 - loss: 0.0134  - ETA: 1:07 - loss: 0.0128  - ETA: 29s - loss - E - ETA - ETA - ETA - ETA: 22s - loss: 0.0114 - acc: 0. - ETA: 22s - loss: - ETA: 5s - loss: 0.0109 - ETA - ETA: 2s - loss: 0.0107 - acc:  - ETA: 2s - loss: 0. - ETA: 1s - loss: 0\n",
      "Epoch 15/20\n",
      "60000/60000 [==============================] - 79s 1ms/step - loss: 0.0160 - acc: 0.9973 - val_loss: 0.1664 - val_acc: 0.9814A: 12s - loss: 0.0152 - acc: 0.99 - ETA: 12s - loss: 0.0152 - acc:  - ETA: 12s - loss: 0.0152 - acc - ETA: 12s - loss: 0.0152 - a - ETA: 11s - loss: 0.0151 - acc: 0.99 - ETA: 11s - loss: 0.0151 - acc:  - ETA:  - ETA: 8s - loss: 0.0154 - acc: 0.997 - ETA: 8s - loss: 0.0154 - acc: 0.99 - ETA: 8s - loss: 0.0155 - acc: 0. - ETA: 8s - loss: 0.0156 - acc: 0.997 - ETA: 8s - loss: 0.0156 - acc: 0.99 - ETA:  - ETA: 6s - ETA: 4s - loss: 0. - ETA: 3s - lo - ETA: 1s - - ETA: 0s - loss: 0.0160 - acc: 0.997\n",
      "Epoch 16/20\n",
      "60000/60000 [==============================] - 75s 1ms/step - loss: 0.0109 - acc: 0.9979 - val_loss: 0.1449 - val_acc: 0.9830 - loss - ETA: 14s - loss: 0.0109 - - ETA: 14s - loss: 0.0111 - a - ET - ETA: 8s - lo - ETA: 6s - loss: 0.0106  - ETA: 0s - loss: 0.0110 - acc:\n",
      "Epoch 17/20\n",
      "60000/60000 [==============================] - 80s 1ms/step - loss: 0.0111 - acc: 0.9981 - val_loss: 0.1669 - val_acc: 0.98016s - loss: 0.0104 - ETA: 0s - loss: 0.011\n",
      "Epoch 18/20\n",
      "60000/60000 [==============================] - 74s 1ms/step - loss: 0.0131 - acc: 0.9975 - val_loss: 0.1654 - val_acc: 0.98215 - acc: 0.99 - ETA: 12s - loss: 0. - ETA: 11s - loss: 0. - ETA: 11s - loss: 0.0135 - acc:  - ETA - ETA: 9s - loss: 0.0139 - acc - ETA: 9s -  - ETA: 2s - loss: 0.0133 - acc: 0.9 - ETA: 2s - l - ETA: 1s - loss: 0.0131 - acc: 0.99 - ETA: 1s - loss: 0.01\n",
      "Epoch 19/20\n",
      "60000/60000 [==============================] - 81s 1ms/step - loss: 0.0119 - acc: 0.9980 - val_loss: 0.1736 - val_acc: 0.98218s - loss: 1.2767e-04 - acc - ETA: 1:04 - loss: 0.0164 - acc: 0 - ETA: 1:08 - loss: 0.0134 - acc: 0. - ETA: 1:10 - loss: 0.0149 - a - ETA: 1:11 - loss: 0.0112 - acc: 0. - ETA: 1:12 - l - ETA: 1:13 - loss: 0.0067 -  - ETA: 1:11 - loss: 0.0072 - acc: - ETA: 1:10 - loss: 0.0065 - acc: 0.9 - ETA:  - ETA:  - ETA: 17s - loss: 0.0123 - acc - ETA: 17s - loss: 0. - ETA: 16s - loss: 0.0125 - acc: 0. - ETA: 16s - loss: 0. - ETA: 15s - loss: 0.0124 - acc: 0. - ETA: 15s - loss: 0.0124 - acc - E - ETA:  - ETA: 3s\n",
      "Epoch 20/20\n",
      "60000/60000 [==============================] - 78s 1ms/step - loss: 0.0096 - acc: 0.9983 - val_loss: 0.1689 - val_acc: 0.98250s - loss: 0.0096 - ac\n"
     ]
    }
   ],
   "source": [
    "hist= model.fit(X_train,y_train, epochs=20, validation_data=(X_test,y_test))"
   ]
  },
  {
   "cell_type": "markdown",
   "metadata": {},
   "source": [
    "Plot the accuracy of the model"
   ]
  },
  {
   "cell_type": "code",
   "execution_count": 72,
   "metadata": {},
   "outputs": [
    {
     "data": {
      "text/plain": [
       "[<matplotlib.lines.Line2D at 0x20613831748>]"
      ]
     },
     "execution_count": 72,
     "metadata": {},
     "output_type": "execute_result"
    },
    {
     "data": {
      "image/png": "[encoded data removed]",
      "text/plain": [
       "<Figure size 432x288 with 1 Axes>"
      ]
     },
     "metadata": {},
     "output_type": "display_data"
    }
   ],
   "source": [
    "plt.plot(hist.history['acc'])\n",
    "plt.plot(hist.history['val_acc'])"
   ]
  },
  {
   "cell_type": "code",
   "execution_count": 73,
   "metadata": {},
   "outputs": [
    {
     "data": {
      "text/plain": [
       "[<matplotlib.lines.Line2D at 0x20616abf748>]"
      ]
     },
     "execution_count": 73,
     "metadata": {},
     "output_type": "execute_result"
    },
    {
     "data": {
      "image/png": "[encoded data removed]",
      "text/plain": [
       "<Figure size 432x288 with 1 Axes>"
      ]
     },
     "metadata": {},
     "output_type": "display_data"
    }
   ],
   "source": [
    "plt.plot(hist.history['acc'])\n",
    "plt.plot(hist.history['val_acc'])\n",
    "plt.plot(hist.history['loss'])"
   ]
  },
  {
   "cell_type": "markdown",
   "metadata": {},
   "source": [
    "# Evaluating the model"
   ]
  },
  {
   "cell_type": "code",
   "execution_count": 74,
   "metadata": {},
   "outputs": [
    {
     "name": "stdout",
     "output_type": "stream",
     "text": [
      "10000/10000 [==============================] - 3s 317us/step\n"
     ]
    }
   ],
   "source": [
    "score = model.evaluate(X_test,y_test)"
   ]
  },
  {
   "cell_type": "code",
   "execution_count": 75,
   "metadata": {},
   "outputs": [
    {
     "data": {
      "text/plain": [
       "[0.16885277307502197, 0.9825]"
      ]
     },
     "execution_count": 75,
     "metadata": {},
     "output_type": "execute_result"
    }
   ],
   "source": [
    "score"
   ]
  },
  {
   "cell_type": "code",
   "execution_count": 76,
   "metadata": {},
   "outputs": [],
   "source": [
    "from keras.models import model_from_json\n",
    "import numpy\n",
    "import os\n",
    "# fix random seed for reproducibility\n",
    "numpy.random.seed(7)"
   ]
  },
  {
   "cell_type": "code",
   "execution_count": 77,
   "metadata": {},
   "outputs": [
    {
     "name": "stdout",
     "output_type": "stream",
     "text": [
      "acc: 98.25%\n"
     ]
    }
   ],
   "source": [
    "# evaluate the model\n",
    "scores = model.evaluate(X_test, y_test, verbose=0)\n",
    "print(\"%s: %.2f%%\" % (model.metrics_names[1], scores[1]*100))\n"
   ]
  },
  {
   "cell_type": "code",
   "execution_count": 78,
   "metadata": {},
   "outputs": [],
   "source": [
    "# serialize model to JSON\n",
    "model_json = model.to_json()\n",
    "with open(\"model.json\", \"w\") as json_file:\n",
    "    json_file.write(model_json)\n"
   ]
  },
  {
   "cell_type": "code",
   "execution_count": 79,
   "metadata": {},
   "outputs": [
    {
     "name": "stdout",
     "output_type": "stream",
     "text": [
      "Saved model to disk\n"
     ]
    }
   ],
   "source": [
    "# serialize weights to HDF5\n",
    "model.save_weights(\"model_nn.h5\")\n",
    "print(\"Saved model to disk\")"
   ]
  },
  {
   "cell_type": "code",
   "execution_count": 80,
   "metadata": {},
   "outputs": [],
   "source": [
    "# load json and create model\n",
    "json_file = open('model.json', 'r')\n",
    "loaded_model_json = json_file.read()\n",
    "json_file.close()\n",
    "loaded_model = model_from_json(loaded_model_json)\n"
   ]
  },
  {
   "cell_type": "code",
   "execution_count": 81,
   "metadata": {},
   "outputs": [
    {
     "name": "stdout",
     "output_type": "stream",
     "text": [
      "Loaded model from disk\n"
     ]
    }
   ],
   "source": [
    "# load weights into new model\n",
    "loaded_model.load_weights(\"model_nn.h5\")\n",
    "print(\"Loaded model from disk\")\n"
   ]
  },
  {
   "cell_type": "code",
   "execution_count": null,
   "metadata": {},
   "outputs": [],
   "source": [
    "\n",
    "# evaluate loaded model on test data\n",
    "loaded_model.compile(loss='binary_crossentropy', optimizer='rmsprop', metrics=['accuracy'])\n",
    "score = loaded_model.evaluate(X, Y, verbose=0)\n",
    "print(\"%s: %.2f%%\" % (loaded_model.metrics_names[1], score[1]*100))"
   ]
  },
  {
   "cell_type": "code",
   "execution_count": 82,
   "metadata": {},
   "outputs": [],
   "source": [
    "\n",
    "# evaluate loaded model on test data\n",
    "loaded_model.compile(loss='categorical_crossentropy', optimizer='adam', metrics=['accuracy'])\n"
   ]
  },
  {
   "cell_type": "code",
   "execution_count": 83,
   "metadata": {},
   "outputs": [
    {
     "name": "stdout",
     "output_type": "stream",
     "text": [
      "acc: 98.25%\n"
     ]
    }
   ],
   "source": [
    "score = loaded_model.evaluate(X_test, y_test, verbose=0)\n",
    "print(\"%s: %.2f%%\" % (loaded_model.metrics_names[1], score[1]*100))"
   ]
  },
  {
   "cell_type": "code",
   "execution_count": null,
   "metadata": {},
   "outputs": [],
   "source": []
  }
 ],
 "metadata": {
  "kernelspec": {
   "display_name": "Python 3",
   "language": "python",
   "name": "python3"
  },
  "language_info": {
   "codemirror_mode": {
    "name": "ipython",
    "version": 3
   },
   "file_extension": ".py",
   "mimetype": "text/x-python",
   "name": "python",
   "nbconvert_exporter": "python",
   "pygments_lexer": "ipython3",
   "version": "3.6.5"
  }
 },
 "nbformat": 4,
 "nbformat_minor": 2
}
